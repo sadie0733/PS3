{
 "cells": [
  {
   "cell_type": "code",
   "execution_count": 16,
   "id": "6d838104-fdb4-4f83-941e-c52ee09f2a8c",
   "metadata": {},
   "outputs": [
    {
     "data": {
      "text/plain": [
       "'/blue/bsc4452/sadiyahu.chatham/homework'"
      ]
     },
     "execution_count": 16,
     "metadata": {},
     "output_type": "execute_result"
    }
   ],
   "source": [
    "pwd"
   ]
  },
  {
   "cell_type": "code",
   "execution_count": 42,
   "id": "050af85e-c9f8-43f7-8641-3f0b446fe64f",
   "metadata": {},
   "outputs": [
    {
     "name": "stdout",
     "output_type": "stream",
     "text": [
      "data file opened\n"
     ]
    }
   ],
   "source": [
    "try:\n",
    "    csv_file = open(\"/blue/bsc4452/sadiyahu.chatham/homework/CO-OPS__8729108__wl.csv\")\n",
    "    print(\"data file opened\")\n",
    "except:pwd\n",
    "    print('cant open')        "
   ]
  },
  {
   "cell_type": "code",
   "execution_count": 43,
   "id": "0fae8f47-6a45-438a-a894-d08a9b9619a8",
   "metadata": {},
   "outputs": [
    {
     "data": {
      "text/plain": [
       "'Date Time, Water Level, Sigma, O, F, R, L, Quality \\n'"
      ]
     },
     "execution_count": 43,
     "metadata": {},
     "output_type": "execute_result"
    }
   ],
   "source": [
    "csv_file.readline()"
   ]
  },
  {
   "cell_type": "code",
   "execution_count": 44,
   "id": "0bda9aee-669e-4d56-81b4-910c00e76e06",
   "metadata": {},
   "outputs": [],
   "source": [
    "lines = csv_file.read().splitlines()"
   ]
  },
  {
   "cell_type": "code",
   "execution_count": 45,
   "id": "4ab5f11d-8b62-4794-8441-7206322a9fd1",
   "metadata": {},
   "outputs": [
    {
     "ename": "TypeError",
     "evalue": "'>' not supported between instances of 'float' and 'str'",
     "output_type": "error",
     "traceback": [
      "\u001b[0;31m---------------------------------------------------------------------------\u001b[0m",
      "\u001b[0;31mTypeError\u001b[0m                                 Traceback (most recent call last)",
      "\u001b[0;32m/scratch/local/49977049/ipykernel_8627/3399482572.py\u001b[0m in \u001b[0;36m<module>\u001b[0;34m\u001b[0m\n\u001b[1;32m      3\u001b[0m     \u001b[0;34m[\u001b[0m\u001b[0mdatime\u001b[0m\u001b[0;34m,\u001b[0m \u001b[0mlevel\u001b[0m\u001b[0;34m,\u001b[0m \u001b[0;34m*\u001b[0m\u001b[0m_\u001b[0m\u001b[0;34m]\u001b[0m \u001b[0;34m=\u001b[0m \u001b[0mlines\u001b[0m\u001b[0;34m[\u001b[0m\u001b[0mi\u001b[0m\u001b[0;34m]\u001b[0m\u001b[0;34m.\u001b[0m\u001b[0msplit\u001b[0m\u001b[0;34m(\u001b[0m\u001b[0;34m\",\"\u001b[0m\u001b[0;34m)\u001b[0m\u001b[0;34m\u001b[0m\u001b[0;34m\u001b[0m\u001b[0m\n\u001b[1;32m      4\u001b[0m     \u001b[0mlevel\u001b[0m \u001b[0;34m=\u001b[0m \u001b[0mfloat\u001b[0m\u001b[0;34m(\u001b[0m\u001b[0mlevel\u001b[0m\u001b[0;34m)\u001b[0m\u001b[0;34m\u001b[0m\u001b[0;34m\u001b[0m\u001b[0m\n\u001b[0;32m----> 5\u001b[0;31m     \u001b[0;32mif\u001b[0m \u001b[0mlevel\u001b[0m \u001b[0;34m>\u001b[0m \u001b[0mhighest_level\u001b[0m\u001b[0;34m:\u001b[0m\u001b[0;34m\u001b[0m\u001b[0;34m\u001b[0m\u001b[0m\n\u001b[0m\u001b[1;32m      6\u001b[0m         \u001b[0mhighest_level\u001b[0m \u001b[0;34m=\u001b[0m \u001b[0mlevel\u001b[0m\u001b[0;34m\u001b[0m\u001b[0;34m\u001b[0m\u001b[0m\n\u001b[1;32m      7\u001b[0m         \u001b[0mhighest_datime\u001b[0m \u001b[0;34m=\u001b[0m \u001b[0mdatime\u001b[0m\u001b[0;34m\u001b[0m\u001b[0;34m\u001b[0m\u001b[0m\n",
      "\u001b[0;31mTypeError\u001b[0m: '>' not supported between instances of 'float' and 'str'"
     ]
    }
   ],
   "source": [
    "[highest_datime, highest_level, *_] = lines[0].split(\",\")\n",
    "for i in range(1, len(lines)):\n",
    "    [datime, level, *_] = lines[i].split(\",\")\n",
    "    level = float(level)\n",
    "    if level > highest_level:\n",
    "        highest_level = level\n",
    "        highest_datime = datime\n",
    "print(\"Highest water level:\", highest_level)\n",
    "print(\"Date and time observed:\", highest_datime)"
   ]
  },
  {
   "cell_type": "code",
   "execution_count": 36,
   "id": "510eab67-351f-4b43-b7b8-413303494a2b",
   "metadata": {},
   "outputs": [
    {
     "ename": "TypeError",
     "evalue": "'>' not supported between instances of 'float' and 'str'",
     "output_type": "error",
     "traceback": [
      "\u001b[0;31m---------------------------------------------------------------------------\u001b[0m",
      "\u001b[0;31mTypeError\u001b[0m                                 Traceback (most recent call last)",
      "\u001b[0;32m/scratch/local/49977049/ipykernel_8627/3659586361.py\u001b[0m in \u001b[0;36m<module>\u001b[0;34m\u001b[0m\n\u001b[1;32m      2\u001b[0m     \u001b[0;34m[\u001b[0m\u001b[0mdatime\u001b[0m\u001b[0;34m,\u001b[0m \u001b[0mlevel\u001b[0m\u001b[0;34m,\u001b[0m \u001b[0;34m*\u001b[0m\u001b[0m_\u001b[0m\u001b[0;34m]\u001b[0m \u001b[0;34m=\u001b[0m \u001b[0mlines\u001b[0m\u001b[0;34m[\u001b[0m\u001b[0mi\u001b[0m\u001b[0;34m]\u001b[0m\u001b[0;34m.\u001b[0m\u001b[0msplit\u001b[0m\u001b[0;34m(\u001b[0m\u001b[0;34m\",\"\u001b[0m\u001b[0;34m)\u001b[0m\u001b[0;34m\u001b[0m\u001b[0;34m\u001b[0m\u001b[0m\n\u001b[1;32m      3\u001b[0m     \u001b[0mlevel\u001b[0m \u001b[0;34m=\u001b[0m \u001b[0mfloat\u001b[0m\u001b[0;34m(\u001b[0m\u001b[0mlevel\u001b[0m\u001b[0;34m)\u001b[0m\u001b[0;34m\u001b[0m\u001b[0;34m\u001b[0m\u001b[0m\n\u001b[0;32m----> 4\u001b[0;31m     \u001b[0;32mif\u001b[0m \u001b[0mlevel\u001b[0m \u001b[0;34m>\u001b[0m \u001b[0mhighest_level\u001b[0m\u001b[0;34m:\u001b[0m\u001b[0;34m\u001b[0m\u001b[0;34m\u001b[0m\u001b[0m\n\u001b[0m\u001b[1;32m      5\u001b[0m         \u001b[0mhighest_level\u001b[0m \u001b[0;34m=\u001b[0m \u001b[0mlevel\u001b[0m\u001b[0;34m\u001b[0m\u001b[0;34m\u001b[0m\u001b[0m\n\u001b[1;32m      6\u001b[0m         \u001b[0mhighest_datime\u001b[0m \u001b[0;34m=\u001b[0m \u001b[0mdatime\u001b[0m\u001b[0;34m\u001b[0m\u001b[0;34m\u001b[0m\u001b[0m\n",
      "\u001b[0;31mTypeError\u001b[0m: '>' not supported between instances of 'float' and 'str'"
     ]
    }
   ],
   "source": [
    "for i in range(1, len(lines)):\n",
    "    [datime, level, *_] = lines[i].split(\",\")\n",
    "    level = float(level)\n",
    "    if level > highest_level:\n",
    "        highest_level = level\n",
    "        highest_datime = datime\n",
    "print(\"Highest water level:\", highest_level)\n",
    "print(\"Date and time observed:\", highest_datime)"
   ]
  },
  {
   "cell_type": "code",
   "execution_count": null,
   "id": "fee00336-3a08-475b-8dfe-0388c0fdf463",
   "metadata": {},
   "outputs": [],
   "source": [
    "#Either in a new script or modifying the above script, calculate the lowest, highest and average water level observed during the time period. As above, print the date and time for the lowest and highest readings. "
   ]
  },
  {
   "cell_type": "code",
   "execution_count": 30,
   "id": "b24cf086-3815-4c75-87ef-2def734e8faf",
   "metadata": {},
   "outputs": [
    {
     "name": "stdout",
     "output_type": "stream",
     "text": [
      "data file opened\n"
     ]
    }
   ],
   "source": [
    "try:\n",
    "    csv_file = open(\"/blue/bsc4452/sadiyahu.chatham/homework/CO-OPS__8729108__wl.csv\")\n",
    "    print(\"data file opened\")\n",
    "except:\n",
    "    print('cant open')  "
   ]
  },
  {
   "cell_type": "code",
   "execution_count": 36,
   "id": "dc085585-461f-4ccb-be0d-3c1ae782e6a2",
   "metadata": {},
   "outputs": [
    {
     "ename": "TypeError",
     "evalue": "'>' not supported between instances of 'str' and 'float'",
     "output_type": "error",
     "traceback": [
      "\u001b[0;31m---------------------------------------------------------------------------\u001b[0m",
      "\u001b[0;31mTypeError\u001b[0m                                 Traceback (most recent call last)",
      "\u001b[0;32m/scratch/local/49858604/ipykernel_20195/1982325347.py\u001b[0m in \u001b[0;36m<module>\u001b[0;34m\u001b[0m\n\u001b[1;32m      7\u001b[0m \u001b[0;32mfor\u001b[0m \u001b[0mi\u001b[0m \u001b[0;32min\u001b[0m \u001b[0mrange\u001b[0m\u001b[0;34m(\u001b[0m\u001b[0;36m1\u001b[0m\u001b[0;34m,\u001b[0m \u001b[0mlen\u001b[0m\u001b[0;34m(\u001b[0m\u001b[0mlines\u001b[0m\u001b[0;34m)\u001b[0m\u001b[0;34m)\u001b[0m\u001b[0;34m:\u001b[0m\u001b[0;34m\u001b[0m\u001b[0;34m\u001b[0m\u001b[0m\n\u001b[1;32m      8\u001b[0m      \u001b[0;34m[\u001b[0m\u001b[0mdatime\u001b[0m\u001b[0;34m,\u001b[0m \u001b[0mlevel\u001b[0m\u001b[0;34m,\u001b[0m \u001b[0;34m*\u001b[0m\u001b[0m_\u001b[0m\u001b[0;34m]\u001b[0m \u001b[0;34m=\u001b[0m \u001b[0mlines\u001b[0m\u001b[0;34m[\u001b[0m\u001b[0mi\u001b[0m\u001b[0;34m]\u001b[0m\u001b[0;34m.\u001b[0m\u001b[0msplit\u001b[0m\u001b[0;34m(\u001b[0m\u001b[0;34m\",\"\u001b[0m\u001b[0;34m)\u001b[0m\u001b[0;34m\u001b[0m\u001b[0;34m\u001b[0m\u001b[0m\n\u001b[0;32m----> 9\u001b[0;31m \u001b[0;32mif\u001b[0m \u001b[0mlevel\u001b[0m \u001b[0;34m>\u001b[0m \u001b[0mhighest_level\u001b[0m\u001b[0;34m:\u001b[0m\u001b[0;34m\u001b[0m\u001b[0;34m\u001b[0m\u001b[0m\n\u001b[0m\u001b[1;32m     10\u001b[0m     \u001b[0mhighest_level\u001b[0m \u001b[0;34m=\u001b[0m \u001b[0mlevel\u001b[0m\u001b[0;34m\u001b[0m\u001b[0;34m\u001b[0m\u001b[0m\n\u001b[1;32m     11\u001b[0m     \u001b[0mhighest_datime\u001b[0m \u001b[0;34m=\u001b[0m \u001b[0mdatimel\u001b[0m\u001b[0;34m\u001b[0m\u001b[0;34m\u001b[0m\u001b[0m\n",
      "\u001b[0;31mTypeError\u001b[0m: '>' not supported between instances of 'str' and 'float'"
     ]
    }
   ],
   "source": [
    "csv_file.readline()\n",
    "[highest_datime, highest_level, *_] = lines[0].split(\",\")\n",
    "highest_level = float(highest_level)\n",
    "lowest_datime = highest_datime\n",
    "lowest_level = highest_level\n",
    "total_level = highest_level\n",
    "for i in range(1, len(lines)):\n",
    "     [datime, level, *_] = lines[i].split(\",\")\n",
    "if level > highest_level:\n",
    "    highest_level = level\n",
    "    highest_datime = datimel\n",
    "if level < lowest_level:\n",
    "    lowest_level = level\n",
    "    lowest_datime = datime\n",
    "    total_level += level\n",
    "print(\"Highest water level:\", highest_level)\n",
    "print(\"Date and time observed:\", highest_datime)\n",
    "\n",
    "\n",
    "print(\"Lowest water level:\", lowest_level)\n",
    "print(\"Date and time observed:\", lowest_datime)\n",
    "\n",
    "\n",
    "average_level = total_level / len(lines)\n",
    "print(\"Average water level:\", average_level)\n",
    "\n",
    "\n",
    "csv_file.close()\n",
    "    "
   ]
  },
  {
   "cell_type": "code",
   "execution_count": 38,
   "id": "82876874-6cf7-4b60-9f86-c94328a6cbf9",
   "metadata": {},
   "outputs": [],
   "source": [
    "#Problem 3 (5 pts):\n",
    "#Write a script (or Jupyter Notebook) that calculates the fastest rise in water level per 6-minute period between measurements (for this assignment, assume that each line of the dataset is a 6-minute interval) and reports the date and time that was observed and the change in water level from the previous recording.\n"
   ]
  },
  {
   "cell_type": "code",
   "execution_count": 39,
   "id": "47ffed2a-b694-4a71-829d-494417bbe952",
   "metadata": {},
   "outputs": [
    {
     "name": "stdout",
     "output_type": "stream",
     "text": [
      "data file opened\n"
     ]
    }
   ],
   "source": [
    "try:\n",
    "    csv_file = open(\"/blue/bsc4452/sadiyahu.chatham/homework/CO-OPS__8729108__wl.csv\")\n",
    "    print(\"data file opened\")\n",
    "except:\n",
    "    print('cant open')  "
   ]
  },
  {
   "cell_type": "code",
   "execution_count": 40,
   "id": "2d3bcbc4-8a47-4d22-9087-b432ea34c065",
   "metadata": {},
   "outputs": [
    {
     "ename": "ValueError",
     "evalue": "could not convert string to float: ''",
     "output_type": "error",
     "traceback": [
      "\u001b[0;31m---------------------------------------------------------------------------\u001b[0m",
      "\u001b[0;31mValueError\u001b[0m                                Traceback (most recent call last)",
      "\u001b[0;32m/scratch/local/49858604/ipykernel_20195/317353277.py\u001b[0m in \u001b[0;36m<module>\u001b[0;34m\u001b[0m\n\u001b[1;32m      6\u001b[0m     \u001b[0;34m[\u001b[0m\u001b[0mcurrent_datime\u001b[0m\u001b[0;34m,\u001b[0m \u001b[0mcurrent_level\u001b[0m\u001b[0;34m,\u001b[0m \u001b[0;34m*\u001b[0m\u001b[0m_\u001b[0m\u001b[0;34m]\u001b[0m \u001b[0;34m=\u001b[0m \u001b[0mlines\u001b[0m\u001b[0;34m[\u001b[0m\u001b[0mi\u001b[0m\u001b[0;34m]\u001b[0m\u001b[0;34m.\u001b[0m\u001b[0msplit\u001b[0m\u001b[0;34m(\u001b[0m\u001b[0;34m\",\"\u001b[0m\u001b[0;34m)\u001b[0m\u001b[0;34m\u001b[0m\u001b[0;34m\u001b[0m\u001b[0m\n\u001b[1;32m      7\u001b[0m     \u001b[0;34m[\u001b[0m\u001b[0mprevious_datime\u001b[0m\u001b[0;34m,\u001b[0m \u001b[0mprevious_level\u001b[0m\u001b[0;34m,\u001b[0m \u001b[0;34m*\u001b[0m\u001b[0m_\u001b[0m\u001b[0;34m]\u001b[0m \u001b[0;34m=\u001b[0m \u001b[0mlines\u001b[0m\u001b[0;34m[\u001b[0m\u001b[0mi\u001b[0m \u001b[0;34m-\u001b[0m \u001b[0;36m1\u001b[0m\u001b[0;34m]\u001b[0m\u001b[0;34m.\u001b[0m\u001b[0msplit\u001b[0m\u001b[0;34m(\u001b[0m\u001b[0;34m\",\"\u001b[0m\u001b[0;34m)\u001b[0m\u001b[0;34m\u001b[0m\u001b[0;34m\u001b[0m\u001b[0m\n\u001b[0;32m----> 8\u001b[0;31m     \u001b[0mcurrent_level\u001b[0m \u001b[0;34m=\u001b[0m \u001b[0mfloat\u001b[0m\u001b[0;34m(\u001b[0m\u001b[0mcurrent_level\u001b[0m\u001b[0;34m)\u001b[0m\u001b[0;34m\u001b[0m\u001b[0;34m\u001b[0m\u001b[0m\n\u001b[0m\u001b[1;32m      9\u001b[0m     \u001b[0mprevious_level\u001b[0m \u001b[0;34m=\u001b[0m \u001b[0mfloat\u001b[0m\u001b[0;34m(\u001b[0m\u001b[0mprevious_level\u001b[0m\u001b[0;34m)\u001b[0m\u001b[0;34m\u001b[0m\u001b[0;34m\u001b[0m\u001b[0m\n\u001b[1;32m     10\u001b[0m     \u001b[0mrise\u001b[0m \u001b[0;34m=\u001b[0m \u001b[0mcurrent_level\u001b[0m \u001b[0;34m-\u001b[0m \u001b[0mprevious_level\u001b[0m\u001b[0;34m\u001b[0m\u001b[0;34m\u001b[0m\u001b[0m\n",
      "\u001b[0;31mValueError\u001b[0m: could not convert string to float: ''"
     ]
    }
   ],
   "source": [
    "\n",
    "\n",
    "csv_file.readline()\n",
    "lines = csv_file.read().splitlines()\n",
    "fastest_rise = 0.0\n",
    "fastest_datime = \"\"\n",
    "for i in range(1, len(lines)):\n",
    "    [current_datime, current_level, *_] = lines[i].split(\",\")\n",
    "    [previous_datime, previous_level, *_] = lines[i - 1].split(\",\")\n",
    "    current_level = float(current_level)\n",
    "    previous_level = float(previous_level)\n",
    "    rise = current_level - previous_level\n",
    "    if rise > fastest_rise:\n",
    "        fastest_rise = rise\n",
    "        fastest_datime = current_datime\n",
    "print(\"Fastest rise:\", fastest_rise)\n",
    "print(\"Date and time observed:\", fastest_datime)\n",
    "csv_file.close()"
   ]
  },
  {
   "cell_type": "code",
   "execution_count": 41,
   "id": "9aa34ce2-dea1-4c61-ae81-a6c4dd4814fc",
   "metadata": {},
   "outputs": [],
   "source": [
    "#Problem 4 (5 pts):\n",
    "#Imagine that the file is providing live readings of the water level. Write a script (or Jupyter Notebook) to print a line of text with a warning if any of these events occur:\n",
    "\n",
    "#The water level increases more than 0.25 since the previous recording.\n",
    "#The water level is over 5.0.\n",
    "#No reading is received at a time point."
   ]
  },
  {
   "cell_type": "code",
   "execution_count": 42,
   "id": "f1f66ffc-b3cc-400f-93f8-f9f68e040cb6",
   "metadata": {},
   "outputs": [
    {
     "name": "stdout",
     "output_type": "stream",
     "text": [
      "data file opened\n"
     ]
    }
   ],
   "source": [
    "try:\n",
    "    csv_file = open(\"/blue/bsc4452/sadiyahu.chatham/homework/CO-OPS__8729108__wl.csv\")\n",
    "    print(\"data file opened\")\n",
    "except:\n",
    "    print('cant open')"
   ]
  },
  {
   "cell_type": "code",
   "execution_count": 44,
   "id": "0485d30b-eee5-416b-adb4-6e1b5ce49cc2",
   "metadata": {},
   "outputs": [
    {
     "name": "stdout",
     "output_type": "stream",
     "text": [
      "WARNING: Water rise is more than 0.25.\n",
      "WARNING: Water rise is more than 0.25.\n",
      "WARNING: Water rise is more than 0.25.\n",
      "WARNING: Water level is over 5.0.\n",
      "WARNING: Water rise is more than 0.25.\n",
      "WARNING: Water level is over 5.0.\n",
      "WARNING: Water rise is more than 0.25.\n",
      "WARNING: Water level is over 5.0.\n",
      "WARNING: Water level is over 5.0.\n",
      "WARNING: Water level is over 5.0.\n",
      "WARNING: Water level is over 5.0.\n"
     ]
    },
    {
     "ename": "ValueError",
     "evalue": "could not convert string to float: ''",
     "output_type": "error",
     "traceback": [
      "\u001b[0;31m---------------------------------------------------------------------------\u001b[0m",
      "\u001b[0;31mValueError\u001b[0m                                Traceback (most recent call last)",
      "\u001b[0;32m/scratch/local/49858604/ipykernel_20195/608250622.py\u001b[0m in \u001b[0;36m<module>\u001b[0;34m\u001b[0m\n\u001b[1;32m      6\u001b[0m     \u001b[0;34m[\u001b[0m\u001b[0mcurrent_datime\u001b[0m\u001b[0;34m,\u001b[0m \u001b[0mcurrent_level\u001b[0m\u001b[0;34m,\u001b[0m \u001b[0;34m*\u001b[0m\u001b[0m_\u001b[0m\u001b[0;34m]\u001b[0m \u001b[0;34m=\u001b[0m \u001b[0mlines\u001b[0m\u001b[0;34m[\u001b[0m\u001b[0mi\u001b[0m\u001b[0;34m]\u001b[0m\u001b[0;34m.\u001b[0m\u001b[0msplit\u001b[0m\u001b[0;34m(\u001b[0m\u001b[0;34m\",\"\u001b[0m\u001b[0;34m)\u001b[0m\u001b[0;34m\u001b[0m\u001b[0;34m\u001b[0m\u001b[0m\n\u001b[1;32m      7\u001b[0m     \u001b[0;34m[\u001b[0m\u001b[0mprevious_datime\u001b[0m\u001b[0;34m,\u001b[0m \u001b[0mprevious_level\u001b[0m\u001b[0;34m,\u001b[0m \u001b[0;34m*\u001b[0m\u001b[0m_\u001b[0m\u001b[0;34m]\u001b[0m \u001b[0;34m=\u001b[0m \u001b[0mlines\u001b[0m\u001b[0;34m[\u001b[0m\u001b[0mi\u001b[0m \u001b[0;34m-\u001b[0m \u001b[0;36m1\u001b[0m\u001b[0;34m]\u001b[0m\u001b[0;34m.\u001b[0m\u001b[0msplit\u001b[0m\u001b[0;34m(\u001b[0m\u001b[0;34m\",\"\u001b[0m\u001b[0;34m)\u001b[0m\u001b[0;34m\u001b[0m\u001b[0;34m\u001b[0m\u001b[0m\n\u001b[0;32m----> 8\u001b[0;31m     \u001b[0mcurrent_level\u001b[0m \u001b[0;34m=\u001b[0m \u001b[0mfloat\u001b[0m\u001b[0;34m(\u001b[0m\u001b[0mcurrent_level\u001b[0m\u001b[0;34m)\u001b[0m\u001b[0;34m\u001b[0m\u001b[0;34m\u001b[0m\u001b[0m\n\u001b[0m\u001b[1;32m      9\u001b[0m     \u001b[0mprevious_level\u001b[0m \u001b[0;34m=\u001b[0m \u001b[0mfloat\u001b[0m\u001b[0;34m(\u001b[0m\u001b[0mprevious_level\u001b[0m\u001b[0;34m)\u001b[0m\u001b[0;34m\u001b[0m\u001b[0;34m\u001b[0m\u001b[0m\n\u001b[1;32m     10\u001b[0m     \u001b[0mrise\u001b[0m \u001b[0;34m=\u001b[0m \u001b[0mcurrent_level\u001b[0m \u001b[0;34m-\u001b[0m \u001b[0mprevious_level\u001b[0m\u001b[0;34m\u001b[0m\u001b[0;34m\u001b[0m\u001b[0m\n",
      "\u001b[0;31mValueError\u001b[0m: could not convert string to float: ''"
     ]
    }
   ],
   "source": [
    "csv_file.readline()\n",
    "lines = csv_file.read().splitlines()\n",
    "previous_datime = \"\"\n",
    "    \n",
    "\n",
    "for i in range(1, len(lines)):\n",
    "    [current_datime, current_level, *_] = lines[i].split(\",\")\n",
    "    [previous_datime, previous_level, *_] = lines[i - 1].split(\",\")\n",
    "    current_level = float(current_level)\n",
    "    previous_level = float(previous_level)\n",
    "    rise = current_level - previous_level\n",
    "    if rise > 0.25:\n",
    "        print(\"WARNING: Water rise is more than 0.25.\")\n",
    "    if current_level > 5.0:\n",
    "        print(\"WARNING: Water level is over 5.0.\")\n",
    "    [current_d, current_t] = current_datime.split()\n",
    "    [current_h, current_m] = current_t.split(\":\")\n",
    "    [previous_d, previous_t] = previous_datime.split()\n",
    "    [previous_h, previous_m] = previous_t.split(\":\")\n",
    "    current_m = int(current_m)\n",
    "    previous_m = int(previous_m)\n",
    "    expected_min = (previous_m + 6) % 60\n",
    "    if current_m != expected_min:\n",
    "        print(\"WARNING: No reading was received.\")\n",
    "csv_file.close()"
   ]
  },
  {
   "cell_type": "code",
   "execution_count": null,
   "id": "943d42a0-ad06-4804-a2a1-2bf0893fe10d",
   "metadata": {},
   "outputs": [],
   "source": []
  }
 ],
 "metadata": {
  "kernelspec": {
   "display_name": "UFRC Python-3.8",
   "language": "python",
   "name": "python3-3.8-ufrc"
  },
  "language_info": {
   "codemirror_mode": {
    "name": "ipython",
    "version": 3
   },
   "file_extension": ".py",
   "mimetype": "text/x-python",
   "name": "python",
   "nbconvert_exporter": "python",
   "pygments_lexer": "ipython3",
   "version": "3.8.5"
  }
 },
 "nbformat": 4,
 "nbformat_minor": 5
}
